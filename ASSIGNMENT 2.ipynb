{
 "cells": [
  {
   "cell_type": "code",
   "execution_count": null,
   "id": "fb72e9e1",
   "metadata": {},
   "outputs": [],
   "source": [
    "Write a python program that accepts a word from the user and reserve it .\n",
    "\n",
    "\n",
    "Sample test case\n",
    "\n",
    "Input  :Edyoda\n",
    "Output :adoyodE    "
   ]
  },
  {
   "cell_type": "code",
   "execution_count": 3,
   "id": "74a8a607",
   "metadata": {},
   "outputs": [
    {
     "name": "stdout",
     "output_type": "stream",
     "text": [
      "Input : Edyoda\n",
      "Output : adoydE\n"
     ]
    }
   ],
   "source": [
    "a=input (\"Input : \")\n",
    "b=\"\"\n",
    "for i in a:\n",
    "    b=i+b\n",
    "print(\"Output :\",b)"
   ]
  },
  {
   "cell_type": "code",
   "execution_count": null,
   "id": "8b2eeac3",
   "metadata": {},
   "outputs": [],
   "source": []
  },
  {
   "cell_type": "code",
   "execution_count": null,
   "id": "edd7935c",
   "metadata": {},
   "outputs": [],
   "source": []
  },
  {
   "cell_type": "code",
   "execution_count": null,
   "id": "904f3961",
   "metadata": {},
   "outputs": [],
   "source": []
  }
 ],
 "metadata": {
  "kernelspec": {
   "display_name": "Python 3 (ipykernel)",
   "language": "python",
   "name": "python3"
  },
  "language_info": {
   "codemirror_mode": {
    "name": "ipython",
    "version": 3
   },
   "file_extension": ".py",
   "mimetype": "text/x-python",
   "name": "python",
   "nbconvert_exporter": "python",
   "pygments_lexer": "ipython3",
   "version": "3.10.2"
  }
 },
 "nbformat": 4,
 "nbformat_minor": 5
}
